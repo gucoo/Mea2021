{
 "cells": [
  {
   "cell_type": "code",
   "execution_count": 236,
   "metadata": {},
   "outputs": [],
   "source": [
    "import pandas as pd\n",
    "df=pd.read_csv('11182019_24well_500threshold+SpikeData.csv',skiprows=7)  "
   ]
  },
  {
   "cell_type": "code",
   "execution_count": 237,
   "metadata": {},
   "outputs": [
    {
     "data": {
      "text/html": [
       "<div>\n",
       "<style scoped>\n",
       "    .dataframe tbody tr th:only-of-type {\n",
       "        vertical-align: middle;\n",
       "    }\n",
       "\n",
       "    .dataframe tbody tr th {\n",
       "        vertical-align: top;\n",
       "    }\n",
       "\n",
       "    .dataframe thead th {\n",
       "        text-align: right;\n",
       "    }\n",
       "</style>\n",
       "<table border=\"1\" class=\"dataframe\">\n",
       "  <thead>\n",
       "    <tr style=\"text-align: right;\">\n",
       "      <th></th>\n",
       "      <th>Well</th>\n",
       "      <th>Treatment</th>\n",
       "      <th>Conc(M)</th>\n",
       "      <th>TOI(min)</th>\n",
       "      <th>Channel in well</th>\n",
       "      <th>Channel</th>\n",
       "      <th>Selected</th>\n",
       "      <th>Time_of_day</th>\n",
       "      <th>Within_session_time</th>\n",
       "      <th>Within_session_time(ms)</th>\n",
       "      <th>...</th>\n",
       "      <th>Unnamed: 78</th>\n",
       "      <th>Unnamed: 79</th>\n",
       "      <th>Unnamed: 80</th>\n",
       "      <th>Unnamed: 81</th>\n",
       "      <th>Unnamed: 82</th>\n",
       "      <th>Unnamed: 83</th>\n",
       "      <th>Unnamed: 84</th>\n",
       "      <th>Unnamed: 85</th>\n",
       "      <th>Unnamed: 86</th>\n",
       "      <th>Unnamed: 87</th>\n",
       "    </tr>\n",
       "  </thead>\n",
       "  <tbody>\n",
       "    <tr>\n",
       "      <th>0</th>\n",
       "      <td>A1</td>\n",
       "      <td>none</td>\n",
       "      <td>NaN</td>\n",
       "      <td>0</td>\n",
       "      <td>1</td>\n",
       "      <td>1</td>\n",
       "      <td>0</td>\n",
       "      <td>03:52.4</td>\n",
       "      <td>0d:00:00:00.75</td>\n",
       "      <td>750.20</td>\n",
       "      <td>...</td>\n",
       "      <td>-46.9552</td>\n",
       "      <td>-49.4580</td>\n",
       "      <td>-54.8785</td>\n",
       "      <td>-58.3399</td>\n",
       "      <td>-60.2595</td>\n",
       "      <td>-65.0807</td>\n",
       "      <td>-68.2300</td>\n",
       "      <td>-71.1990</td>\n",
       "      <td>-73.0694</td>\n",
       "      <td>-77.1500</td>\n",
       "    </tr>\n",
       "    <tr>\n",
       "      <th>1</th>\n",
       "      <td>A1</td>\n",
       "      <td>none</td>\n",
       "      <td>NaN</td>\n",
       "      <td>0</td>\n",
       "      <td>1</td>\n",
       "      <td>1</td>\n",
       "      <td>0</td>\n",
       "      <td>03:52.4</td>\n",
       "      <td>0d:00:00:00.757</td>\n",
       "      <td>757.65</td>\n",
       "      <td>...</td>\n",
       "      <td>4.5797</td>\n",
       "      <td>4.1395</td>\n",
       "      <td>5.3074</td>\n",
       "      <td>8.6585</td>\n",
       "      <td>9.9252</td>\n",
       "      <td>8.0847</td>\n",
       "      <td>6.8281</td>\n",
       "      <td>7.2177</td>\n",
       "      <td>8.7039</td>\n",
       "      <td>12.1304</td>\n",
       "    </tr>\n",
       "    <tr>\n",
       "      <th>2</th>\n",
       "      <td>A1</td>\n",
       "      <td>none</td>\n",
       "      <td>NaN</td>\n",
       "      <td>0</td>\n",
       "      <td>1</td>\n",
       "      <td>1</td>\n",
       "      <td>0</td>\n",
       "      <td>03:52.4</td>\n",
       "      <td>0d:00:00:00.76</td>\n",
       "      <td>760.15</td>\n",
       "      <td>...</td>\n",
       "      <td>10.0251</td>\n",
       "      <td>14.8936</td>\n",
       "      <td>11.5599</td>\n",
       "      <td>10.6560</td>\n",
       "      <td>9.0818</td>\n",
       "      <td>9.2183</td>\n",
       "      <td>8.0011</td>\n",
       "      <td>9.0897</td>\n",
       "      <td>8.0995</td>\n",
       "      <td>7.7107</td>\n",
       "    </tr>\n",
       "    <tr>\n",
       "      <th>3</th>\n",
       "      <td>A1</td>\n",
       "      <td>none</td>\n",
       "      <td>NaN</td>\n",
       "      <td>0</td>\n",
       "      <td>1</td>\n",
       "      <td>1</td>\n",
       "      <td>0</td>\n",
       "      <td>03:52.4</td>\n",
       "      <td>0d:00:00:00.765</td>\n",
       "      <td>765.35</td>\n",
       "      <td>...</td>\n",
       "      <td>-12.0236</td>\n",
       "      <td>-14.6260</td>\n",
       "      <td>-15.2017</td>\n",
       "      <td>-14.7194</td>\n",
       "      <td>-12.1605</td>\n",
       "      <td>-8.5412</td>\n",
       "      <td>-8.9181</td>\n",
       "      <td>-9.9046</td>\n",
       "      <td>-5.9014</td>\n",
       "      <td>-4.1250</td>\n",
       "    </tr>\n",
       "    <tr>\n",
       "      <th>4</th>\n",
       "      <td>A1</td>\n",
       "      <td>none</td>\n",
       "      <td>NaN</td>\n",
       "      <td>0</td>\n",
       "      <td>1</td>\n",
       "      <td>1</td>\n",
       "      <td>0</td>\n",
       "      <td>03:52.4</td>\n",
       "      <td>0d:00:00:00.774</td>\n",
       "      <td>774.85</td>\n",
       "      <td>...</td>\n",
       "      <td>3.7124</td>\n",
       "      <td>5.2040</td>\n",
       "      <td>5.5982</td>\n",
       "      <td>3.1906</td>\n",
       "      <td>2.5420</td>\n",
       "      <td>-0.1400</td>\n",
       "      <td>-0.3176</td>\n",
       "      <td>0.5289</td>\n",
       "      <td>2.7507</td>\n",
       "      <td>-0.7977</td>\n",
       "    </tr>\n",
       "    <tr>\n",
       "      <th>...</th>\n",
       "      <td>...</td>\n",
       "      <td>...</td>\n",
       "      <td>...</td>\n",
       "      <td>...</td>\n",
       "      <td>...</td>\n",
       "      <td>...</td>\n",
       "      <td>...</td>\n",
       "      <td>...</td>\n",
       "      <td>...</td>\n",
       "      <td>...</td>\n",
       "      <td>...</td>\n",
       "      <td>...</td>\n",
       "      <td>...</td>\n",
       "      <td>...</td>\n",
       "      <td>...</td>\n",
       "      <td>...</td>\n",
       "      <td>...</td>\n",
       "      <td>...</td>\n",
       "      <td>...</td>\n",
       "      <td>...</td>\n",
       "      <td>...</td>\n",
       "    </tr>\n",
       "    <tr>\n",
       "      <th>294655</th>\n",
       "      <td>D3</td>\n",
       "      <td>none</td>\n",
       "      <td>NaN</td>\n",
       "      <td>0</td>\n",
       "      <td>8</td>\n",
       "      <td>300</td>\n",
       "      <td>1</td>\n",
       "      <td>08:52.2</td>\n",
       "      <td>0d:00:05:00.527</td>\n",
       "      <td>300527.45</td>\n",
       "      <td>...</td>\n",
       "      <td>-0.8315</td>\n",
       "      <td>-2.5165</td>\n",
       "      <td>-1.9642</td>\n",
       "      <td>3.0506</td>\n",
       "      <td>6.2544</td>\n",
       "      <td>3.4962</td>\n",
       "      <td>2.5330</td>\n",
       "      <td>6.8679</td>\n",
       "      <td>6.5629</td>\n",
       "      <td>5.7069</td>\n",
       "    </tr>\n",
       "    <tr>\n",
       "      <th>294656</th>\n",
       "      <td>D3</td>\n",
       "      <td>none</td>\n",
       "      <td>NaN</td>\n",
       "      <td>0</td>\n",
       "      <td>8</td>\n",
       "      <td>300</td>\n",
       "      <td>1</td>\n",
       "      <td>08:52.2</td>\n",
       "      <td>0d:00:05:00.532</td>\n",
       "      <td>300532.20</td>\n",
       "      <td>...</td>\n",
       "      <td>24.3316</td>\n",
       "      <td>17.1539</td>\n",
       "      <td>11.9969</td>\n",
       "      <td>7.9657</td>\n",
       "      <td>5.5808</td>\n",
       "      <td>2.0002</td>\n",
       "      <td>-2.5103</td>\n",
       "      <td>-1.3209</td>\n",
       "      <td>3.1057</td>\n",
       "      <td>1.6022</td>\n",
       "    </tr>\n",
       "    <tr>\n",
       "      <th>294657</th>\n",
       "      <td>D3</td>\n",
       "      <td>none</td>\n",
       "      <td>NaN</td>\n",
       "      <td>0</td>\n",
       "      <td>8</td>\n",
       "      <td>300</td>\n",
       "      <td>1</td>\n",
       "      <td>08:52.2</td>\n",
       "      <td>0d:00:05:00.535</td>\n",
       "      <td>300535.70</td>\n",
       "      <td>...</td>\n",
       "      <td>0.1796</td>\n",
       "      <td>-6.0771</td>\n",
       "      <td>-9.4028</td>\n",
       "      <td>-7.5070</td>\n",
       "      <td>-7.1989</td>\n",
       "      <td>-6.1162</td>\n",
       "      <td>-4.1371</td>\n",
       "      <td>2.1750</td>\n",
       "      <td>2.2566</td>\n",
       "      <td>1.0019</td>\n",
       "    </tr>\n",
       "    <tr>\n",
       "      <th>294658</th>\n",
       "      <td>D3</td>\n",
       "      <td>none</td>\n",
       "      <td>NaN</td>\n",
       "      <td>0</td>\n",
       "      <td>8</td>\n",
       "      <td>300</td>\n",
       "      <td>1</td>\n",
       "      <td>08:52.2</td>\n",
       "      <td>0d:00:05:00.551</td>\n",
       "      <td>300551.25</td>\n",
       "      <td>...</td>\n",
       "      <td>-0.7422</td>\n",
       "      <td>-1.3641</td>\n",
       "      <td>-1.2736</td>\n",
       "      <td>-1.1623</td>\n",
       "      <td>-0.0418</td>\n",
       "      <td>1.9660</td>\n",
       "      <td>1.9483</td>\n",
       "      <td>1.2575</td>\n",
       "      <td>-0.7884</td>\n",
       "      <td>-2.6628</td>\n",
       "    </tr>\n",
       "    <tr>\n",
       "      <th>294659</th>\n",
       "      <td>D3</td>\n",
       "      <td>none</td>\n",
       "      <td>NaN</td>\n",
       "      <td>0</td>\n",
       "      <td>12</td>\n",
       "      <td>308</td>\n",
       "      <td>0</td>\n",
       "      <td>08:52.2</td>\n",
       "      <td>0d:00:05:00.541</td>\n",
       "      <td>300541.00</td>\n",
       "      <td>...</td>\n",
       "      <td>-1.6839</td>\n",
       "      <td>-3.7843</td>\n",
       "      <td>-1.6817</td>\n",
       "      <td>-1.7455</td>\n",
       "      <td>-4.9626</td>\n",
       "      <td>-0.8342</td>\n",
       "      <td>1.0856</td>\n",
       "      <td>2.5903</td>\n",
       "      <td>0.3451</td>\n",
       "      <td>-1.7647</td>\n",
       "    </tr>\n",
       "  </tbody>\n",
       "</table>\n",
       "<p>294660 rows × 88 columns</p>\n",
       "</div>"
      ],
      "text/plain": [
       "       Well Treatment  Conc(M)  TOI(min)  Channel in well  Channel  Selected  \\\n",
       "0        A1      none      NaN         0                1        1         0   \n",
       "1        A1      none      NaN         0                1        1         0   \n",
       "2        A1      none      NaN         0                1        1         0   \n",
       "3        A1      none      NaN         0                1        1         0   \n",
       "4        A1      none      NaN         0                1        1         0   \n",
       "...     ...       ...      ...       ...              ...      ...       ...   \n",
       "294655   D3      none      NaN         0                8      300         1   \n",
       "294656   D3      none      NaN         0                8      300         1   \n",
       "294657   D3      none      NaN         0                8      300         1   \n",
       "294658   D3      none      NaN         0                8      300         1   \n",
       "294659   D3      none      NaN         0               12      308         0   \n",
       "\n",
       "       Time_of_day Within_session_time  Within_session_time(ms)  ...  \\\n",
       "0          03:52.4      0d:00:00:00.75                   750.20  ...   \n",
       "1          03:52.4     0d:00:00:00.757                   757.65  ...   \n",
       "2          03:52.4      0d:00:00:00.76                   760.15  ...   \n",
       "3          03:52.4     0d:00:00:00.765                   765.35  ...   \n",
       "4          03:52.4     0d:00:00:00.774                   774.85  ...   \n",
       "...            ...                 ...                      ...  ...   \n",
       "294655     08:52.2     0d:00:05:00.527                300527.45  ...   \n",
       "294656     08:52.2     0d:00:05:00.532                300532.20  ...   \n",
       "294657     08:52.2     0d:00:05:00.535                300535.70  ...   \n",
       "294658     08:52.2     0d:00:05:00.551                300551.25  ...   \n",
       "294659     08:52.2     0d:00:05:00.541                300541.00  ...   \n",
       "\n",
       "        Unnamed: 78 Unnamed: 79  Unnamed: 80  Unnamed: 81  Unnamed: 82  \\\n",
       "0          -46.9552    -49.4580     -54.8785     -58.3399     -60.2595   \n",
       "1            4.5797      4.1395       5.3074       8.6585       9.9252   \n",
       "2           10.0251     14.8936      11.5599      10.6560       9.0818   \n",
       "3          -12.0236    -14.6260     -15.2017     -14.7194     -12.1605   \n",
       "4            3.7124      5.2040       5.5982       3.1906       2.5420   \n",
       "...             ...         ...          ...          ...          ...   \n",
       "294655      -0.8315     -2.5165      -1.9642       3.0506       6.2544   \n",
       "294656      24.3316     17.1539      11.9969       7.9657       5.5808   \n",
       "294657       0.1796     -6.0771      -9.4028      -7.5070      -7.1989   \n",
       "294658      -0.7422     -1.3641      -1.2736      -1.1623      -0.0418   \n",
       "294659      -1.6839     -3.7843      -1.6817      -1.7455      -4.9626   \n",
       "\n",
       "        Unnamed: 83  Unnamed: 84  Unnamed: 85  Unnamed: 86  Unnamed: 87  \n",
       "0          -65.0807     -68.2300     -71.1990     -73.0694     -77.1500  \n",
       "1            8.0847       6.8281       7.2177       8.7039      12.1304  \n",
       "2            9.2183       8.0011       9.0897       8.0995       7.7107  \n",
       "3           -8.5412      -8.9181      -9.9046      -5.9014      -4.1250  \n",
       "4           -0.1400      -0.3176       0.5289       2.7507      -0.7977  \n",
       "...             ...          ...          ...          ...          ...  \n",
       "294655       3.4962       2.5330       6.8679       6.5629       5.7069  \n",
       "294656       2.0002      -2.5103      -1.3209       3.1057       1.6022  \n",
       "294657      -6.1162      -4.1371       2.1750       2.2566       1.0019  \n",
       "294658       1.9660       1.9483       1.2575      -0.7884      -2.6628  \n",
       "294659      -0.8342       1.0856       2.5903       0.3451      -1.7647  \n",
       "\n",
       "[294660 rows x 88 columns]"
      ]
     },
     "execution_count": 237,
     "metadata": {},
     "output_type": "execute_result"
    }
   ],
   "source": [
    "df"
   ]
  },
  {
   "cell_type": "code",
   "execution_count": 161,
   "metadata": {},
   "outputs": [
    {
     "name": "stdout",
     "output_type": "stream",
     "text": [
      "[12, 10, 8, 7, 5, 4, 3, 16, 1, 13, 15, 6, 2, 11, 9, 14]\n",
      "66809\n",
      "[1, 11, 9, 8, 12, 13, 7, 14, 6, 5, 4, 10, 3, 15, 2, 16]\n",
      "25929\n",
      "[6, 1, 16, 7, 14, 8, 4, 13, 3, 2, 10, 12, 11, 9, 5, 15]\n",
      "44135\n",
      "[4, 10, 13, 14, 7, 8, 11, 15, 16, 12, 6, 5, 3, 9, 2, 1]\n",
      "8573\n",
      "[11, 9, 7, 12, 4, 3, 5, 14, 15, 1, 8, 16, 2, 13, 6, 10]\n",
      "20931\n",
      "[6, 12, 13, 9, 5, 10, 16, 15, 4, 14, 2, 7, 8, 1, 3, 11]\n",
      "23860\n",
      "31706.166666666668\n"
     ]
    }
   ],
   "source": [
    "##control\n",
    "total=0\n",
    "\n",
    "cc=['A1','B1','B2','C1','C3','D2']\n",
    "for x in cc:\n",
    "    df_well=df[df.Well==x]\n",
    "    df_well=df_well.sort_values(by=['Within_session_time(ms)'])\n",
    "    y=df_well['Channel in well'].tolist()\n",
    "    output = []\n",
    "    for x in y:\n",
    "        if x not in output:\n",
    "            output.append(x)\n",
    "    print(output)\n",
    "    print(len(y))\n",
    "    total=total+len(y)\n",
    "print(total/6)\n"
   ]
  },
  {
   "cell_type": "code",
   "execution_count": 162,
   "metadata": {},
   "outputs": [
    {
     "name": "stdout",
     "output_type": "stream",
     "text": [
      "[3, 7, 11, 10, 9, 13, 1, 8, 5, 15, 2, 4, 6, 14, 12, 16]\n",
      "11787\n",
      "[14, 11, 9, 7, 13, 15, 5, 1, 3, 2, 10, 6, 8, 16, 4, 12]\n",
      "13415\n",
      "[5, 8, 13, 6, 1, 4, 9, 3, 2, 12, 7, 14, 15, 11, 16, 10]\n",
      "19494\n",
      "[1, 8, 10, 11, 12, 3, 14, 13, 2, 15, 16, 9, 5, 4, 7, 6]\n",
      "38939\n",
      "[16, 8, 7, 11, 15, 12, 1, 9, 6, 5, 3, 14, 10, 2, 13, 4]\n",
      "5340\n",
      "[15, 12, 5, 1, 14, 9, 8, 7, 6, 16, 4, 3, 2, 10, 13, 11]\n",
      "15448\n",
      "17403.833333333332\n"
     ]
    }
   ],
   "source": [
    "##TREATMENT\n",
    "total=0\n",
    "\n",
    "tt=['A2','A3','B3','C2','D1','D3']\n",
    "for x in tt:\n",
    "    df_well=df[df.Well==x]\n",
    "    df_well=df_well.sort_values(by=['Within_session_time(ms)'])\n",
    "    y=df_well['Channel in well'].tolist()\n",
    "    output = []\n",
    "    for x in y:\n",
    "        if x not in output:\n",
    "            output.append(x)\n",
    "    print(output)\n",
    "    print(len(y))\n",
    "    total=total+len(y)\n",
    "print(total/6)"
   ]
  },
  {
   "cell_type": "code",
   "execution_count": 150,
   "metadata": {},
   "outputs": [
    {
     "name": "stdout",
     "output_type": "stream",
     "text": [
      "[12, 10, 8, 7, 5, 4, 3, 16, 1, 13, 15, 6, 2, 11, 9, 14]\n",
      "Counter({1: 10633, 10: 10477, 11: 9112, 15: 8909, 6: 8464, 3: 5123, 12: 3564, 5: 3494, 9: 2228, 14: 1620, 8: 817, 2: 782, 13: 563, 7: 408, 16: 376, 4: 239})\n"
     ]
    },
    {
     "data": {
      "image/png": "[encoded data removed]",
      "text/plain": [
       "<Figure size 432x288 with 1 Axes>"
      ]
     },
     "metadata": {
      "needs_background": "light"
     },
     "output_type": "display_data"
    },
    {
     "name": "stdout",
     "output_type": "stream",
     "text": [
      "[1, 11, 9, 8, 12, 13, 7, 14, 6, 5, 4, 10, 3, 15, 2, 16]\n",
      "Counter({6: 4970, 7: 4858, 11: 3747, 4: 3076, 1: 2989, 9: 2368, 10: 1512, 5: 987, 8: 355, 16: 211, 3: 203, 13: 201, 2: 172, 14: 119, 15: 98, 12: 63})\n"
     ]
    },
    {
     "data": {
      "image/png": "[encoded data removed]",
      "text/plain": [
       "<Figure size 432x288 with 1 Axes>"
      ]
     },
     "metadata": {
      "needs_background": "light"
     },
     "output_type": "display_data"
    },
    {
     "name": "stdout",
     "output_type": "stream",
     "text": [
      "[6, 1, 16, 7, 14, 8, 4, 13, 3, 2, 10, 12, 11, 9, 5, 15]\n",
      "Counter({7: 8511, 8: 6816, 4: 6022, 14: 4769, 10: 4521, 1: 4087, 3: 2736, 2: 2506, 6: 1167, 12: 963, 16: 937, 13: 383, 5: 220, 15: 211, 11: 143, 9: 143})\n"
     ]
    },
    {
     "data": {
      "image/png": "[encoded data removed]",
      "text/plain": [
       "<Figure size 432x288 with 1 Axes>"
      ]
     },
     "metadata": {
      "needs_background": "light"
     },
     "output_type": "display_data"
    },
    {
     "name": "stdout",
     "output_type": "stream",
     "text": [
      "[4, 10, 13, 14, 7, 8, 11, 15, 16, 12, 6, 5, 3, 9, 2, 1]\n",
      "Counter({15: 2356, 7: 2119, 11: 1041, 13: 598, 10: 460, 16: 356, 12: 341, 3: 258, 2: 229, 9: 158, 5: 138, 6: 134, 4: 117, 8: 110, 14: 90, 1: 68})\n"
     ]
    },
    {
     "data": {
      "image/png": "[encoded data removed]",
      "text/plain": [
       "<Figure size 432x288 with 1 Axes>"
      ]
     },
     "metadata": {
      "needs_background": "light"
     },
     "output_type": "display_data"
    },
    {
     "name": "stdout",
     "output_type": "stream",
     "text": [
      "[11, 9, 7, 12, 4, 3, 5, 14, 15, 1, 8, 16, 2, 13, 6, 10]\n",
      "Counter({14: 7159, 7: 4133, 11: 2934, 3: 1962, 15: 1439, 5: 884, 2: 818, 4: 516, 1: 445, 12: 184, 10: 138, 6: 80, 16: 77, 13: 66, 8: 54, 9: 42})\n"
     ]
    },
    {
     "data": {
      "image/png": "[encoded data removed]",
      "text/plain": [
       "<Figure size 432x288 with 1 Axes>"
      ]
     },
     "metadata": {
      "needs_background": "light"
     },
     "output_type": "display_data"
    },
    {
     "name": "stdout",
     "output_type": "stream",
     "text": [
      "[6, 12, 13, 9, 5, 10, 16, 15, 4, 14, 2, 7, 8, 1, 3, 11]\n",
      "Counter({16: 5267, 8: 4391, 9: 2901, 13: 2691, 10: 2360, 12: 2075, 7: 918, 3: 725, 2: 577, 14: 497, 15: 408, 6: 348, 1: 221, 11: 200, 4: 179, 5: 102})\n"
     ]
    },
    {
     "data": {
      "image/png": "[encoded data removed]",
      "text/plain": [
       "<Figure size 432x288 with 1 Axes>"
      ]
     },
     "metadata": {
      "needs_background": "light"
     },
     "output_type": "display_data"
    }
   ],
   "source": [
    "##CONTROL\n",
    "CC=['A1','B1','B2','C1','C3','D2']\n",
    "for x in CC:\n",
    "    df_well=df[df.Well==x]\n",
    "    df_well=df_well.sort_values(by=['Within_session_time(ms)'])\n",
    "    y=df_well['Channel in well'].tolist()\n",
    "    output = []\n",
    "    for x in y:\n",
    "        if x not in output:\n",
    "            output.append(x)\n",
    "    print(output)\n",
    "\n",
    "\n",
    "    counter=collections.Counter(y)\n",
    "    print(counter)\n",
    "    plt.bar(*zip(*counter.items()))\n",
    "    plt.show()"
   ]
  },
  {
   "cell_type": "code",
   "execution_count": 153,
   "metadata": {},
   "outputs": [
    {
     "name": "stdout",
     "output_type": "stream",
     "text": [
      "[3, 7, 11, 10, 9, 13, 1, 8, 5, 15, 2, 4, 6, 14, 12, 16]\n",
      "Counter({10: 2268, 13: 1660, 9: 1413, 7: 1315, 5: 909, 14: 763, 11: 578, 12: 575, 3: 552, 15: 409, 4: 351, 16: 283, 6: 256, 2: 190, 1: 172, 8: 93})\n"
     ]
    },
    {
     "data": {
      "image/png": "[encoded data removed]",
      "text/plain": [
       "<Figure size 432x288 with 1 Axes>"
      ]
     },
     "metadata": {
      "needs_background": "light"
     },
     "output_type": "display_data"
    },
    {
     "name": "stdout",
     "output_type": "stream",
     "text": [
      "[14, 11, 9, 7, 13, 15, 5, 1, 3, 2, 10, 6, 8, 16, 4, 12]\n",
      "Counter({15: 3943, 10: 1874, 8: 1369, 11: 1301, 9: 1140, 7: 972, 3: 882, 1: 673, 13: 268, 6: 223, 4: 182, 14: 164, 16: 151, 12: 109, 5: 85, 2: 79})\n"
     ]
    },
    {
     "data": {
      "image/png": "[encoded data removed]",
      "text/plain": [
       "<Figure size 432x288 with 1 Axes>"
      ]
     },
     "metadata": {
      "needs_background": "light"
     },
     "output_type": "display_data"
    },
    {
     "name": "stdout",
     "output_type": "stream",
     "text": [
      "[5, 8, 13, 6, 1, 4, 9, 3, 2, 12, 7, 14, 15, 11, 16, 10]\n",
      "Counter({2: 3528, 8: 3237, 4: 3044, 11: 2467, 1: 1733, 12: 1102, 3: 1001, 16: 987, 6: 864, 5: 829, 15: 242, 7: 208, 9: 101, 10: 55, 14: 54, 13: 42})\n"
     ]
    },
    {
     "data": {
      "image/png": "[encoded data removed]",
      "text/plain": [
       "<Figure size 432x288 with 1 Axes>"
      ]
     },
     "metadata": {
      "needs_background": "light"
     },
     "output_type": "display_data"
    },
    {
     "name": "stdout",
     "output_type": "stream",
     "text": [
      "[1, 8, 10, 11, 12, 3, 14, 13, 2, 15, 16, 9, 5, 4, 7, 6]\n",
      "Counter({2: 7641, 11: 6710, 9: 6100, 1: 4636, 14: 4495, 12: 3855, 16: 1383, 10: 983, 8: 816, 15: 774, 3: 523, 5: 477, 13: 281, 4: 106, 7: 103, 6: 56})\n"
     ]
    },
    {
     "data": {
      "image/png": "[encoded data removed]",
      "text/plain": [
       "<Figure size 432x288 with 1 Axes>"
      ]
     },
     "metadata": {
      "needs_background": "light"
     },
     "output_type": "display_data"
    },
    {
     "name": "stdout",
     "output_type": "stream",
     "text": [
      "[16, 8, 7, 11, 15, 12, 1, 9, 6, 5, 3, 14, 10, 2, 13, 4]\n",
      "Counter({6: 1059, 5: 883, 15: 554, 3: 552, 14: 397, 16: 357, 12: 324, 8: 307, 13: 267, 7: 233, 4: 107, 10: 90, 9: 70, 11: 67, 1: 37, 2: 36})\n"
     ]
    },
    {
     "data": {
      "image/png": "[encoded data removed]",
      "text/plain": [
       "<Figure size 432x288 with 1 Axes>"
      ]
     },
     "metadata": {
      "needs_background": "light"
     },
     "output_type": "display_data"
    },
    {
     "name": "stdout",
     "output_type": "stream",
     "text": [
      "[15, 12, 5, 1, 14, 9, 8, 7, 6, 16, 4, 3, 2, 10, 13, 11]\n",
      "Counter({8: 4350, 1: 3921, 3: 2090, 7: 1237, 6: 865, 5: 731, 12: 533, 4: 323, 13: 269, 2: 243, 9: 237, 14: 201, 15: 163, 16: 131, 11: 104, 10: 50})\n"
     ]
    },
    {
     "data": {
      "image/png": "[encoded data removed]",
      "text/plain": [
       "<Figure size 432x288 with 1 Axes>"
      ]
     },
     "metadata": {
      "needs_background": "light"
     },
     "output_type": "display_data"
    }
   ],
   "source": [
    "#Treatment\n",
    "TT=['A2','A3','B3','C2','D1','D3']\n",
    "for x in TT:\n",
    "    df_well=df[df.Well==x]\n",
    "    df_well=df_well.sort_values(by=['Within_session_time(ms)'])\n",
    "    y=df_well['Channel in well'].tolist()\n",
    "    output = []\n",
    "    for x in y:\n",
    "        if x not in output:\n",
    "            output.append(x)\n",
    "    print(output)\n",
    "\n",
    "\n",
    "    counter=collections.Counter(y)\n",
    "    print(counter)\n",
    "    plt.bar(*zip(*counter.items()),color='green')\n",
    "    plt.show()"
   ]
  },
  {
   "cell_type": "code",
   "execution_count": 357,
   "metadata": {},
   "outputs": [
    {
     "name": "stderr",
     "output_type": "stream",
     "text": [
      "<ipython-input-357-fc8a00f58181>:30: SettingWithCopyWarning: \n",
      "A value is trying to be set on a copy of a slice from a DataFrame\n",
      "\n",
      "See the caveats in the documentation: https://pandas.pydata.org/pandas-docs/stable/user_guide/indexing.html#returning-a-view-versus-a-copy\n",
      "  df_well['gt'][i]= groupTime\n",
      "<ipython-input-357-fc8a00f58181>:35: SettingWithCopyWarning: \n",
      "A value is trying to be set on a copy of a slice from a DataFrame\n",
      "\n",
      "See the caveats in the documentation: https://pandas.pydata.org/pandas-docs/stable/user_guide/indexing.html#returning-a-view-versus-a-copy\n",
      "  df_well['gt'][i]= groupTime\n"
     ]
    },
    {
     "data": {
      "image/png": "[encoded data removed]",
      "text/plain": [
       "<Figure size 432x288 with 1 Axes>"
      ]
     },
     "metadata": {
      "needs_background": "light"
     },
     "output_type": "display_data"
    },
    {
     "data": {
      "image/png": "[encoded data removed]",
      "text/plain": [
       "<Figure size 432x288 with 1 Axes>"
      ]
     },
     "metadata": {
      "needs_background": "light"
     },
     "output_type": "display_data"
    },
    {
     "data": {
      "image/png": "[encoded data removed]",
      "text/plain": [
       "<Figure size 432x288 with 1 Axes>"
      ]
     },
     "metadata": {
      "needs_background": "light"
     },
     "output_type": "display_data"
    },
    {
     "data": {
      "image/png": "[encoded data removed]",
      "text/plain": [
       "<Figure size 432x288 with 1 Axes>"
      ]
     },
     "metadata": {
      "needs_background": "light"
     },
     "output_type": "display_data"
    },
    {
     "data": {
      "image/png": "[encoded data removed]",
      "text/plain": [
       "<Figure size 432x288 with 1 Axes>"
      ]
     },
     "metadata": {
      "needs_background": "light"
     },
     "output_type": "display_data"
    },
    {
     "data": {
      "image/png": "[encoded data removed]",
      "text/plain": [
       "<Figure size 432x288 with 1 Axes>"
      ]
     },
     "metadata": {
      "needs_background": "light"
     },
     "output_type": "display_data"
    }
   ],
   "source": [
    "###Try 10 ms \n",
    "TimeDuration = 10\n",
    "##CONTROL\n",
    "CC=['A1','B1','B2','C1','C3','D2']\n",
    "#Single Well\n",
    "SS=['B2']\n",
    "\n",
    "df_well=pd.DataFrame()\n",
    "\n",
    "\n",
    "for x in CC:\n",
    "    df_well=df[df.Well==x]\n",
    "    df_well=df_well.sort_values(by=['Within_session_time(ms)'])\n",
    "    df_well = df_well.reset_index(drop=True)\n",
    "    \n",
    "    \n",
    "    le=len(df_well)\n",
    "    time_start = float(df_well.iloc[0]['Within_session_time(ms)']) + TimeDuration\n",
    "    groupTime=0\n",
    "    df_well['gt'] = 0\n",
    "\n",
    "    for i in range(le):\n",
    "    \n",
    "        current = df_well.iloc[i]['Within_session_time(ms)']\n",
    "    \n",
    "        if current <= time_start:\n",
    "            #df_well.iloc[0].gt = 7 => cannot use it, it won't overwrite the df\n",
    "            df_well['gt'][i]= groupTime\n",
    "        else:\n",
    "            #time_start = time_start + TimeDuration\n",
    "            time_start = current + TimeDuration\n",
    "            groupTime = groupTime + 1\n",
    "            df_well['gt'][i]= groupTime\n",
    "            \n",
    "        \n",
    "    counter=collections.Counter(df_well['gt'])\n",
    "    #print(counter)\n",
    "    #print(sorted(counter.items()))\n",
    "    b=counter.items()\n",
    "    z=dict(sorted(b,key = lambda i: i[0]))\n",
    "\n",
    "    plt.bar(*zip(*b),color='purple')\n",
    "    plt.show()"
   ]
  },
  {
   "cell_type": "code",
   "execution_count": 356,
   "metadata": {},
   "outputs": [
    {
     "name": "stderr",
     "output_type": "stream",
     "text": [
      "<ipython-input-356-312c99779ecf>:30: SettingWithCopyWarning: \n",
      "A value is trying to be set on a copy of a slice from a DataFrame\n",
      "\n",
      "See the caveats in the documentation: https://pandas.pydata.org/pandas-docs/stable/user_guide/indexing.html#returning-a-view-versus-a-copy\n",
      "  df_well['gt'][i]= groupTime\n",
      "<ipython-input-356-312c99779ecf>:35: SettingWithCopyWarning: \n",
      "A value is trying to be set on a copy of a slice from a DataFrame\n",
      "\n",
      "See the caveats in the documentation: https://pandas.pydata.org/pandas-docs/stable/user_guide/indexing.html#returning-a-view-versus-a-copy\n",
      "  df_well['gt'][i]= groupTime\n"
     ]
    },
    {
     "data": {
      "image/png": "[encoded data removed]",
      "text/plain": [
       "<Figure size 432x288 with 1 Axes>"
      ]
     },
     "metadata": {
      "needs_background": "light"
     },
     "output_type": "display_data"
    },
    {
     "data": {
      "image/png": "[encoded data removed]",
      "text/plain": [
       "<Figure size 432x288 with 1 Axes>"
      ]
     },
     "metadata": {
      "needs_background": "light"
     },
     "output_type": "display_data"
    },
    {
     "data": {
      "image/png": "[encoded data removed]",
      "text/plain": [
       "<Figure size 432x288 with 1 Axes>"
      ]
     },
     "metadata": {
      "needs_background": "light"
     },
     "output_type": "display_data"
    },
    {
     "data": {
      "image/png": "[encoded data removed]",
      "text/plain": [
       "<Figure size 432x288 with 1 Axes>"
      ]
     },
     "metadata": {
      "needs_background": "light"
     },
     "output_type": "display_data"
    },
    {
     "data": {
      "image/png": "[encoded data removed]",
      "text/plain": [
       "<Figure size 432x288 with 1 Axes>"
      ]
     },
     "metadata": {
      "needs_background": "light"
     },
     "output_type": "display_data"
    },
    {
     "data": {
      "image/png": "[encoded data removed]",
      "text/plain": [
       "<Figure size 432x288 with 1 Axes>"
      ]
     },
     "metadata": {
      "needs_background": "light"
     },
     "output_type": "display_data"
    }
   ],
   "source": [
    "###Try 10 ms \n",
    "TimeDuration = 10\n",
    "#TREATMENT\n",
    "TT=['A2','A3','B3','C2','D1','D3']\n",
    "#Single Well\n",
    "SS=['B2']\n",
    "\n",
    "df_well=pd.DataFrame()\n",
    "\n",
    "\n",
    "for x in TT:\n",
    "    df_well=df[df.Well==x]\n",
    "    df_well=df_well.sort_values(by=['Within_session_time(ms)'])\n",
    "    df_well = df_well.reset_index(drop=True)\n",
    "    \n",
    "    \n",
    "    le=len(df_well)\n",
    "    time_start = float(df_well.iloc[0]['Within_session_time(ms)']) + TimeDuration\n",
    "    groupTime=0\n",
    "    df_well['gt'] = 0\n",
    "\n",
    "    for i in range(le):\n",
    "    \n",
    "        current = df_well.iloc[i]['Within_session_time(ms)']\n",
    "    \n",
    "        if current <= time_start:\n",
    "            #df_well.iloc[0].gt = 7 => cannot use it, it won't overwrite the df\n",
    "            df_well['gt'][i]= groupTime\n",
    "        else:\n",
    "            #time_start = time_start + TimeDuration\n",
    "            time_start = current + TimeDuration\n",
    "            groupTime = groupTime + 1\n",
    "            df_well['gt'][i]= groupTime\n",
    "            \n",
    "        \n",
    "    counter=collections.Counter(df_well['gt'])\n",
    "    #print(counter)\n",
    "    #print(sorted(counter.items()))\n",
    "    b=counter.items()\n",
    "    z=dict(sorted(b,key = lambda i: i[0]))\n",
    "\n",
    "    plt.bar(*zip(*b),color='pink')\n",
    "    plt.show()\n",
    "\n",
    "\n",
    "\n",
    "   "
   ]
  },
  {
   "cell_type": "code",
   "execution_count": null,
   "metadata": {},
   "outputs": [],
   "source": []
  },
  {
   "cell_type": "code",
   "execution_count": null,
   "metadata": {},
   "outputs": [],
   "source": []
  }
 ],
 "metadata": {
  "kernelspec": {
   "display_name": "Python 3",
   "language": "python",
   "name": "python3"
  },
  "language_info": {
   "codemirror_mode": {
    "name": "ipython",
    "version": 3
   },
   "file_extension": ".py",
   "mimetype": "text/x-python",
   "name": "python",
   "nbconvert_exporter": "python",
   "pygments_lexer": "ipython3",
   "version": "3.8.5"
  }
 },
 "nbformat": 4,
 "nbformat_minor": 4
}
